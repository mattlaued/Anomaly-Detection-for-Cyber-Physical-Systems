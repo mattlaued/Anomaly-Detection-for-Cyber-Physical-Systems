{
 "cells": [
  {
   "cell_type": "code",
   "execution_count": 1,
   "id": "mediterranean-force",
   "metadata": {},
   "outputs": [],
   "source": [
    "import tensorflow as tf\n",
    "import numpy as np\n",
    "import pandas as pd\n",
    "import matplotlib.pyplot as plt\n",
    "import pickle\n",
    "from vae_methods import Sampling\n",
    "import tensorflow_addons as tfa\n",
    "from sklearn.model_selection import train_test_split"
   ]
  },
  {
   "cell_type": "code",
   "execution_count": 42,
   "id": "sharp-campbell",
   "metadata": {},
   "outputs": [],
   "source": [
    "data_path = \"../SWaT_Data\"\n",
    "with open(f\"{data_path}/scalerX_0.pkl\", \"rb\") as f:\n",
    "    scaler = pickle.load(f)\n",
    "\n",
    "df = pd.read_csv(f\"{data_path}/SWaT_Dataset_Attack_v0.csv\")\n",
    "\n",
    "# Relabel\n",
    "df.replace([\"A ttack\", \"Attack\", \"Normal\"], [1, 1, 0], inplace=True)\n",
    "\n",
    "# df"
   ]
  },
  {
   "cell_type": "code",
   "execution_count": 3,
   "id": "robust-richmond",
   "metadata": {},
   "outputs": [
    {
     "data": {
      "text/plain": [
       "Index([' Timestamp', 'FIT101', 'LIT101', ' MV101', 'P101', 'P102', ' AIT201',\n",
       "       'AIT202', 'AIT203', 'FIT201', ' MV201', ' P201', ' P202', 'P203',\n",
       "       ' P204', 'P205', 'P206', 'DPIT301', 'FIT301', 'LIT301', 'MV301',\n",
       "       'MV302', ' MV303', 'MV304', 'P301', 'P302', 'AIT401', 'AIT402',\n",
       "       'FIT401', 'LIT401', 'P401', 'P402', 'P403', 'P404', 'UV401', 'AIT501',\n",
       "       'AIT502', 'AIT503', 'AIT504', 'FIT501', 'FIT502', 'FIT503', 'FIT504',\n",
       "       'P501', 'P502', 'PIT501', 'PIT502', 'PIT503', 'FIT601', 'P601', 'P602',\n",
       "       'P603', 'Normal/Attack', 'Unnamed: 53', 'Unnamed: 54'],\n",
       "      dtype='object')"
      ]
     },
     "execution_count": 3,
     "metadata": {},
     "output_type": "execute_result"
    }
   ],
   "source": [
    "df.columns"
   ]
  },
  {
   "cell_type": "code",
   "execution_count": 43,
   "id": "qualified-rwanda",
   "metadata": {},
   "outputs": [],
   "source": [
    "df_data = df.drop(columns=[df.columns[0], df.columns[-1], df.columns[-2], df.columns[-3]]).dropna()"
   ]
  },
  {
   "cell_type": "code",
   "execution_count": 44,
   "id": "japanese-garbage",
   "metadata": {},
   "outputs": [],
   "source": [
    "df_attack = scaler.transform(df_data)\n",
    "labels = df['Normal/Attack']\n",
    "\n",
    "x_train, x_test, y_train, y_test = train_test_split(df_attack, labels, test_size=0.4, random_state=0)"
   ]
  },
  {
   "cell_type": "code",
   "execution_count": 45,
   "id": "south-dressing",
   "metadata": {},
   "outputs": [
    {
     "data": {
      "text/plain": [
       "(269951, 51)"
      ]
     },
     "execution_count": 45,
     "metadata": {},
     "output_type": "execute_result"
    }
   ],
   "source": [
    "x_train.shape"
   ]
  },
  {
   "cell_type": "code",
   "execution_count": 46,
   "id": "apart-conspiracy",
   "metadata": {},
   "outputs": [
    {
     "data": {
      "text/plain": [
       "(269951,)"
      ]
     },
     "execution_count": 46,
     "metadata": {},
     "output_type": "execute_result"
    }
   ],
   "source": [
    "y_train.shape"
   ]
  },
  {
   "cell_type": "code",
   "execution_count": 47,
   "id": "breeding-company",
   "metadata": {},
   "outputs": [
    {
     "data": {
      "text/plain": [
       "(179968, 51)"
      ]
     },
     "execution_count": 47,
     "metadata": {},
     "output_type": "execute_result"
    }
   ],
   "source": [
    "x_test.shape"
   ]
  },
  {
   "cell_type": "code",
   "execution_count": 49,
   "id": "funky-labor",
   "metadata": {},
   "outputs": [
    {
     "data": {
      "text/plain": [
       "(179968,)"
      ]
     },
     "execution_count": 49,
     "metadata": {},
     "output_type": "execute_result"
    }
   ],
   "source": [
    "y_test.shape"
   ]
  },
  {
   "cell_type": "code",
   "execution_count": 36,
   "id": "later-sperm",
   "metadata": {},
   "outputs": [],
   "source": [
    "del df_data\n",
    "del df\n",
    "del labels\n",
    "del df_attack"
   ]
  },
  {
   "cell_type": "code",
   "execution_count": 9,
   "id": "active-contributor",
   "metadata": {},
   "outputs": [],
   "source": [
    "input_dim = x_train.shape[-1]"
   ]
  },
  {
   "cell_type": "code",
   "execution_count": 10,
   "id": "limited-winner",
   "metadata": {
    "scrolled": true
   },
   "outputs": [
    {
     "name": "stdout",
     "output_type": "stream",
     "text": [
      "WARNING:tensorflow:No training configuration found in the save file, so the model was *not* compiled. Compile it manually.\n"
     ]
    }
   ],
   "source": [
    "encoder = tf.keras.models.load_model('VAE_Encoder_100422.h5', custom_objects={\"Sampling\": Sampling})"
   ]
  },
  {
   "cell_type": "code",
   "execution_count": 11,
   "id": "confidential-layout",
   "metadata": {},
   "outputs": [],
   "source": [
    "encoder.trainable = False"
   ]
  },
  {
   "cell_type": "code",
   "execution_count": 21,
   "id": "therapeutic-description",
   "metadata": {},
   "outputs": [],
   "source": [
    "encoder.save_weights(\"VAE_Encoder_100422_weights.ckpt\")"
   ]
  },
  {
   "cell_type": "code",
   "execution_count": null,
   "id": "strategic-stations",
   "metadata": {},
   "outputs": [],
   "source": []
  },
  {
   "cell_type": "code",
   "execution_count": 24,
   "id": "apart-merchandise",
   "metadata": {},
   "outputs": [],
   "source": [
    "early_stopping_callback = tf.keras.callbacks.EarlyStopping(\n",
    "    monitor=\"val_loss\",\n",
    "    patience=11,\n",
    "    restore_best_weights=True,\n",
    ")\n",
    "\n",
    "reduce_lr_calllback = tf.keras.callbacks.ReduceLROnPlateau(\n",
    "    monitor='val_loss',\n",
    "    factor=0.15,\n",
    "    patience=5,\n",
    "    verbose=0,\n",
    "    mode='auto',\n",
    "    min_delta=0.0001,\n",
    "    cooldown=0,\n",
    "    min_lr=0\n",
    ")"
   ]
  },
  {
   "cell_type": "code",
   "execution_count": null,
   "id": "favorite-ability",
   "metadata": {},
   "outputs": [],
   "source": [
    "def create_classifier(encoder, input_dim):\n",
    "    \n",
    "    inputs = tf.keras.Input(shape=(input_dim,))\n",
    "    z_mean, z_logvar, z = encoder(inputs, training=False)\n",
    "    latent = tf.keras.layers.Concatenate()([z_mean, z_logvar])\n",
    "    dense1 = tf.keras.layers.Dense(30, activation='tanh')(latent)\n",
    "    dense2 = tf.keras.layers.Dense(15, activation='relu')(dense1)\n",
    "    outputs = tf.keras.layers.Dense(1, activation='sigmoid')(dense2)\n",
    "    \n",
    "    model = tf.keras.Model(inputs, outputs, name='Classifier')\n",
    "    \n",
    "    return model"
   ]
  },
  {
   "cell_type": "code",
   "execution_count": 56,
   "id": "healthy-crime",
   "metadata": {},
   "outputs": [
    {
     "name": "stdout",
     "output_type": "stream",
     "text": [
      "INFO:tensorflow:Using MirroredStrategy with devices ('/job:localhost/replica:0/task:0/device:GPU:0', '/job:localhost/replica:0/task:0/device:GPU:1')\n"
     ]
    }
   ],
   "source": [
    "latent_dim = 45\n",
    "\n",
    "strategy = tf.distribute.MirroredStrategy()\n",
    "with strategy.scope():\n",
    "    \n",
    "    inputs_encoder_vae = tf.keras.Input(shape=(input_dim,))\n",
    "\n",
    "    dense1_vae = tf.keras.layers.Dense(input_dim - 1, activation='tanh')(inputs_encoder_vae)\n",
    "    dense2_vae = tf.keras.layers.Dense(input_dim - 5, activation='relu')(dense1_vae)\n",
    "#         dense2_vae = tf.keras.layers.Dense(input_dim - 5, activation='relu', kernel_regularizer='l2')(dense1_vae)\n",
    "\n",
    "    z_mean = tf.keras.layers.Dense(latent_dim, name=\"z_mean\")(dense2_vae)\n",
    "    z_log_var = tf.keras.layers.Dense(latent_dim, name=\"z_log_var\")(dense2_vae)\n",
    "    z = Sampling()([z_mean, z_log_var])\n",
    "\n",
    "    encoder = tf.keras.Model(inputs=inputs_encoder_vae,\n",
    "                            outputs=[z_mean, z_log_var, z],\n",
    "                            name='VAE_encoder')\n",
    "    \n",
    "    encoder.load_weights(\"VAE_Encoder_100422_weights.ckpt\")\n",
    "    \n",
    "    encoder.trainable = False\n",
    "    \n",
    "    inputs = tf.keras.Input(shape=(input_dim,))\n",
    "    z_mean, z_logvar, z = encoder(inputs, training=False)\n",
    "    latent = tf.keras.layers.Concatenate()([z_mean, z_logvar])\n",
    "    dense1 = tf.keras.layers.Dense(30, activation='tanh')(latent)\n",
    "    dense2 = tf.keras.layers.Dense(15, activation='relu')(dense1)\n",
    "    outputs = tf.keras.layers.Dense(1, activation='sigmoid')(dense2)\n",
    "#     outputs = tf.keras.layers.Dense(1, activation='relu')(dense2)\n",
    "    \n",
    "    model = tf.keras.Model(inputs, outputs, name='Classifier')\n",
    "    \n",
    "    model.compile(loss=tfa.losses.SigmoidFocalCrossEntropy(from_logits=False),\n",
    "                  optimizer=tf.keras.optimizers.Adam(learning_rate=0.001, clipnorm=1),\n",
    "                 metrics=['accuracy', tf.keras.metrics.Precision(), tf.keras.metrics.Recall()])\n",
    "#                   tf.keras.losses.BinaryCrossentropy()"
   ]
  },
  {
   "cell_type": "code",
   "execution_count": 57,
   "id": "spread-margin",
   "metadata": {
    "scrolled": true
   },
   "outputs": [
    {
     "name": "stdout",
     "output_type": "stream",
     "text": [
      "Epoch 1/100\n",
      "1793/1793 [==============================] - 18s 7ms/step - loss: 0.0178 - accuracy: 0.9471 - precision_6: 0.9329 - recall_6: 0.6092 - val_loss: 0.0139 - val_accuracy: 0.9577 - val_precision_6: 0.9917 - val_recall_6: 0.6565\n",
      "Epoch 2/100\n",
      "1793/1793 [==============================] - 11s 6ms/step - loss: 0.0134 - accuracy: 0.9587 - precision_6: 0.9879 - recall_6: 0.6690 - val_loss: 0.0122 - val_accuracy: 0.9611 - val_precision_6: 0.9877 - val_recall_6: 0.6869\n",
      "Epoch 3/100\n",
      "1793/1793 [==============================] - 11s 6ms/step - loss: 0.0123 - accuracy: 0.9629 - precision_6: 0.9851 - recall_6: 0.7061 - val_loss: 0.0125 - val_accuracy: 0.9663 - val_precision_6: 0.9833 - val_recall_6: 0.7338\n",
      "Epoch 4/100\n",
      "1793/1793 [==============================] - 11s 6ms/step - loss: 0.0117 - accuracy: 0.9646 - precision_6: 0.9851 - recall_6: 0.7206 - val_loss: 0.0112 - val_accuracy: 0.9673 - val_precision_6: 0.9799 - val_recall_6: 0.7449\n",
      "Epoch 5/100\n",
      "1793/1793 [==============================] - 11s 6ms/step - loss: 0.0113 - accuracy: 0.9656 - precision_6: 0.9846 - recall_6: 0.7288 - val_loss: 0.0109 - val_accuracy: 0.9657 - val_precision_6: 0.9864 - val_recall_6: 0.7265\n",
      "Epoch 6/100\n",
      "1793/1793 [==============================] - 11s 6ms/step - loss: 0.0110 - accuracy: 0.9666 - precision_6: 0.9854 - recall_6: 0.7367 - val_loss: 0.0105 - val_accuracy: 0.9670 - val_precision_6: 0.9872 - val_recall_6: 0.7371\n",
      "Epoch 7/100\n",
      "1793/1793 [==============================] - 11s 6ms/step - loss: 0.0107 - accuracy: 0.9675 - precision_6: 0.9858 - recall_6: 0.7438 - val_loss: 0.0102 - val_accuracy: 0.9693 - val_precision_6: 0.9854 - val_recall_6: 0.7573\n",
      "Epoch 8/100\n",
      "1793/1793 [==============================] - 11s 6ms/step - loss: 0.0104 - accuracy: 0.9680 - precision_6: 0.9851 - recall_6: 0.7488 - val_loss: 0.0099 - val_accuracy: 0.9686 - val_precision_6: 0.9890 - val_recall_6: 0.7489\n",
      "Epoch 9/100\n",
      "1793/1793 [==============================] - 11s 6ms/step - loss: 0.0101 - accuracy: 0.9686 - precision_6: 0.9855 - recall_6: 0.7536 - val_loss: 0.0094 - val_accuracy: 0.9704 - val_precision_6: 0.9866 - val_recall_6: 0.7661\n",
      "Epoch 10/100\n",
      "1793/1793 [==============================] - 11s 6ms/step - loss: 0.0098 - accuracy: 0.9691 - precision_6: 0.9857 - recall_6: 0.7572 - val_loss: 0.0092 - val_accuracy: 0.9710 - val_precision_6: 0.9898 - val_recall_6: 0.7683\n",
      "Epoch 11/100\n",
      "1793/1793 [==============================] - 11s 6ms/step - loss: 0.0094 - accuracy: 0.9697 - precision_6: 0.9867 - recall_6: 0.7616 - val_loss: 0.0092 - val_accuracy: 0.9721 - val_precision_6: 0.9836 - val_recall_6: 0.7826\n",
      "Epoch 12/100\n",
      "1793/1793 [==============================] - 11s 6ms/step - loss: 0.0092 - accuracy: 0.9701 - precision_6: 0.9865 - recall_6: 0.7650 - val_loss: 0.0086 - val_accuracy: 0.9727 - val_precision_6: 0.9844 - val_recall_6: 0.7869\n",
      "Epoch 13/100\n",
      "1793/1793 [==============================] - 11s 6ms/step - loss: 0.0089 - accuracy: 0.9705 - precision_6: 0.9868 - recall_6: 0.7679 - val_loss: 0.0083 - val_accuracy: 0.9717 - val_precision_6: 0.9914 - val_recall_6: 0.7730\n",
      "Epoch 14/100\n",
      "1793/1793 [==============================] - 11s 6ms/step - loss: 0.0086 - accuracy: 0.9709 - precision_6: 0.9874 - recall_6: 0.7712 - val_loss: 0.0080 - val_accuracy: 0.9727 - val_precision_6: 0.9889 - val_recall_6: 0.7836\n",
      "Epoch 15/100\n",
      "1793/1793 [==============================] - 11s 6ms/step - loss: 0.0083 - accuracy: 0.9714 - precision_6: 0.9873 - recall_6: 0.7754 - val_loss: 0.0077 - val_accuracy: 0.9731 - val_precision_6: 0.9900 - val_recall_6: 0.7856\n",
      "Epoch 16/100\n",
      "1793/1793 [==============================] - 11s 6ms/step - loss: 0.0081 - accuracy: 0.9719 - precision_6: 0.9863 - recall_6: 0.7797 - val_loss: 0.0077 - val_accuracy: 0.9725 - val_precision_6: 0.9892 - val_recall_6: 0.7816\n",
      "Epoch 17/100\n",
      "1793/1793 [==============================] - 11s 6ms/step - loss: 0.0078 - accuracy: 0.9725 - precision_6: 0.9867 - recall_6: 0.7847 - val_loss: 0.0072 - val_accuracy: 0.9748 - val_precision_6: 0.9879 - val_recall_6: 0.8013\n",
      "Epoch 18/100\n",
      "1793/1793 [==============================] - 11s 6ms/step - loss: 0.0077 - accuracy: 0.9729 - precision_6: 0.9866 - recall_6: 0.7880 - val_loss: 0.0071 - val_accuracy: 0.9764 - val_precision_6: 0.9831 - val_recall_6: 0.8191\n",
      "Epoch 19/100\n",
      "1793/1793 [==============================] - 11s 6ms/step - loss: 0.0074 - accuracy: 0.9737 - precision_6: 0.9859 - recall_6: 0.7957 - val_loss: 0.0074 - val_accuracy: 0.9771 - val_precision_6: 0.9853 - val_recall_6: 0.8228\n",
      "Epoch 20/100\n",
      "1793/1793 [==============================] - 11s 6ms/step - loss: 0.0074 - accuracy: 0.9741 - precision_6: 0.9856 - recall_6: 0.7992 - val_loss: 0.0068 - val_accuracy: 0.9761 - val_precision_6: 0.9864 - val_recall_6: 0.8142\n",
      "Epoch 21/100\n",
      "1793/1793 [==============================] - 11s 6ms/step - loss: 0.0072 - accuracy: 0.9747 - precision_6: 0.9857 - recall_6: 0.8042 - val_loss: 0.0073 - val_accuracy: 0.9760 - val_precision_6: 0.9814 - val_recall_6: 0.8177\n",
      "Epoch 22/100\n",
      "1793/1793 [==============================] - 11s 6ms/step - loss: 0.0071 - accuracy: 0.9754 - precision_6: 0.9856 - recall_6: 0.8095 - val_loss: 0.0070 - val_accuracy: 0.9777 - val_precision_6: 0.9838 - val_recall_6: 0.8291\n",
      "Epoch 23/100\n",
      "1793/1793 [==============================] - 11s 6ms/step - loss: 0.0071 - accuracy: 0.9756 - precision_6: 0.9849 - recall_6: 0.8118 - val_loss: 0.0066 - val_accuracy: 0.9786 - val_precision_6: 0.9856 - val_recall_6: 0.8356\n",
      "Epoch 24/100\n",
      "1793/1793 [==============================] - 11s 6ms/step - loss: 0.0069 - accuracy: 0.9759 - precision_6: 0.9850 - recall_6: 0.8146 - val_loss: 0.0066 - val_accuracy: 0.9772 - val_precision_6: 0.9889 - val_recall_6: 0.8207\n",
      "Epoch 25/100\n",
      "1793/1793 [==============================] - 11s 6ms/step - loss: 0.0068 - accuracy: 0.9763 - precision_6: 0.9854 - recall_6: 0.8179 - val_loss: 0.0068 - val_accuracy: 0.9791 - val_precision_6: 0.9752 - val_recall_6: 0.8489\n",
      "Epoch 26/100\n",
      "1793/1793 [==============================] - 11s 6ms/step - loss: 0.0068 - accuracy: 0.9767 - precision_6: 0.9853 - recall_6: 0.8213 - val_loss: 0.0061 - val_accuracy: 0.9778 - val_precision_6: 0.9881 - val_recall_6: 0.8268\n",
      "Epoch 27/100\n",
      "1793/1793 [==============================] - 11s 6ms/step - loss: 0.0067 - accuracy: 0.9770 - precision_6: 0.9849 - recall_6: 0.8236 - val_loss: 0.0061 - val_accuracy: 0.9797 - val_precision_6: 0.9855 - val_recall_6: 0.8446\n",
      "Epoch 28/100\n",
      "1793/1793 [==============================] - 11s 6ms/step - loss: 0.0066 - accuracy: 0.9773 - precision_6: 0.9846 - recall_6: 0.8269 - val_loss: 0.0063 - val_accuracy: 0.9771 - val_precision_6: 0.9892 - val_recall_6: 0.8197\n",
      "Epoch 29/100\n",
      "1793/1793 [==============================] - 11s 6ms/step - loss: 0.0066 - accuracy: 0.9774 - precision_6: 0.9837 - recall_6: 0.8285 - val_loss: 0.0064 - val_accuracy: 0.9763 - val_precision_6: 0.9869 - val_recall_6: 0.8148\n",
      "Epoch 30/100\n",
      "1793/1793 [==============================] - 11s 6ms/step - loss: 0.0065 - accuracy: 0.9777 - precision_6: 0.9840 - recall_6: 0.8300 - val_loss: 0.0061 - val_accuracy: 0.9777 - val_precision_6: 0.9878 - val_recall_6: 0.8256\n",
      "Epoch 31/100\n",
      "1793/1793 [==============================] - 11s 6ms/step - loss: 0.0064 - accuracy: 0.9780 - precision_6: 0.9842 - recall_6: 0.8328 - val_loss: 0.0061 - val_accuracy: 0.9784 - val_precision_6: 0.9893 - val_recall_6: 0.8305\n",
      "Epoch 32/100\n",
      "1793/1793 [==============================] - 11s 6ms/step - loss: 0.0059 - accuracy: 0.9792 - precision_6: 0.9867 - recall_6: 0.8401 - val_loss: 0.0056 - val_accuracy: 0.9800 - val_precision_6: 0.9878 - val_recall_6: 0.8456\n",
      "Epoch 33/100\n",
      "1793/1793 [==============================] - 11s 6ms/step - loss: 0.0058 - accuracy: 0.9792 - precision_6: 0.9868 - recall_6: 0.8401 - val_loss: 0.0056 - val_accuracy: 0.9794 - val_precision_6: 0.9889 - val_recall_6: 0.8393\n",
      "Epoch 34/100\n",
      "1793/1793 [==============================] - 11s 6ms/step - loss: 0.0058 - accuracy: 0.9792 - precision_6: 0.9871 - recall_6: 0.8405 - val_loss: 0.0056 - val_accuracy: 0.9802 - val_precision_6: 0.9874 - val_recall_6: 0.8474\n",
      "Epoch 35/100\n",
      "1793/1793 [==============================] - 11s 6ms/step - loss: 0.0058 - accuracy: 0.9792 - precision_6: 0.9858 - recall_6: 0.8412 - val_loss: 0.0056 - val_accuracy: 0.9804 - val_precision_6: 0.9877 - val_recall_6: 0.8485\n",
      "Epoch 36/100\n",
      "1793/1793 [==============================] - 11s 6ms/step - loss: 0.0058 - accuracy: 0.9795 - precision_6: 0.9873 - recall_6: 0.8422 - val_loss: 0.0057 - val_accuracy: 0.9794 - val_precision_6: 0.9892 - val_recall_6: 0.8393\n",
      "Epoch 37/100\n",
      "1793/1793 [==============================] - 11s 6ms/step - loss: 0.0058 - accuracy: 0.9793 - precision_6: 0.9873 - recall_6: 0.8412 - val_loss: 0.0056 - val_accuracy: 0.9794 - val_precision_6: 0.9894 - val_recall_6: 0.8385\n",
      "Epoch 38/100\n",
      "1793/1793 [==============================] - 11s 6ms/step - loss: 0.0057 - accuracy: 0.9794 - precision_6: 0.9877 - recall_6: 0.8415 - val_loss: 0.0056 - val_accuracy: 0.9809 - val_precision_6: 0.9863 - val_recall_6: 0.8540\n",
      "Epoch 39/100\n",
      "1793/1793 [==============================] - 11s 6ms/step - loss: 0.0057 - accuracy: 0.9796 - precision_6: 0.9875 - recall_6: 0.8429 - val_loss: 0.0056 - val_accuracy: 0.9802 - val_precision_6: 0.9876 - val_recall_6: 0.8468\n",
      "Epoch 40/100\n",
      "1793/1793 [==============================] - 11s 6ms/step - loss: 0.0057 - accuracy: 0.9796 - precision_6: 0.9875 - recall_6: 0.8430 - val_loss: 0.0055 - val_accuracy: 0.9806 - val_precision_6: 0.9877 - val_recall_6: 0.8507\n",
      "Epoch 41/100\n",
      "1793/1793 [==============================] - 11s 6ms/step - loss: 0.0057 - accuracy: 0.9795 - precision_6: 0.9879 - recall_6: 0.8424 - val_loss: 0.0055 - val_accuracy: 0.9803 - val_precision_6: 0.9888 - val_recall_6: 0.8470\n",
      "Epoch 42/100\n",
      "1793/1793 [==============================] - 11s 6ms/step - loss: 0.0057 - accuracy: 0.9797 - precision_6: 0.9875 - recall_6: 0.8440 - val_loss: 0.0055 - val_accuracy: 0.9803 - val_precision_6: 0.9881 - val_recall_6: 0.8478\n",
      "Epoch 43/100\n",
      "1793/1793 [==============================] - 11s 6ms/step - loss: 0.0057 - accuracy: 0.9797 - precision_6: 0.9878 - recall_6: 0.8435 - val_loss: 0.0055 - val_accuracy: 0.9806 - val_precision_6: 0.9884 - val_recall_6: 0.8495\n",
      "Epoch 44/100\n",
      "1793/1793 [==============================] - 11s 6ms/step - loss: 0.0057 - accuracy: 0.9797 - precision_6: 0.9877 - recall_6: 0.8440 - val_loss: 0.0055 - val_accuracy: 0.9806 - val_precision_6: 0.9881 - val_recall_6: 0.8501\n",
      "Epoch 45/100\n",
      "1793/1793 [==============================] - 11s 6ms/step - loss: 0.0057 - accuracy: 0.9797 - precision_6: 0.9876 - recall_6: 0.8437 - val_loss: 0.0055 - val_accuracy: 0.9810 - val_precision_6: 0.9870 - val_recall_6: 0.8540\n",
      "Epoch 46/100\n",
      "1793/1793 [==============================] - 11s 6ms/step - loss: 0.0057 - accuracy: 0.9797 - precision_6: 0.9875 - recall_6: 0.8443 - val_loss: 0.0055 - val_accuracy: 0.9807 - val_precision_6: 0.9872 - val_recall_6: 0.8519\n",
      "Epoch 47/100\n",
      "1793/1793 [==============================] - 11s 6ms/step - loss: 0.0057 - accuracy: 0.9797 - precision_6: 0.9875 - recall_6: 0.8442 - val_loss: 0.0055 - val_accuracy: 0.9807 - val_precision_6: 0.9879 - val_recall_6: 0.8511\n",
      "Epoch 48/100\n",
      "1793/1793 [==============================] - 11s 6ms/step - loss: 0.0057 - accuracy: 0.9797 - precision_6: 0.9876 - recall_6: 0.8443 - val_loss: 0.0055 - val_accuracy: 0.9807 - val_precision_6: 0.9879 - val_recall_6: 0.8507\n",
      "Epoch 49/100\n",
      "1793/1793 [==============================] - 11s 6ms/step - loss: 0.0057 - accuracy: 0.9797 - precision_6: 0.9876 - recall_6: 0.8440 - val_loss: 0.0055 - val_accuracy: 0.9806 - val_precision_6: 0.9879 - val_recall_6: 0.8503\n",
      "Epoch 50/100\n",
      "1793/1793 [==============================] - 11s 6ms/step - loss: 0.0057 - accuracy: 0.9797 - precision_6: 0.9876 - recall_6: 0.8440 - val_loss: 0.0055 - val_accuracy: 0.9806 - val_precision_6: 0.9879 - val_recall_6: 0.8505\n",
      "Epoch 51/100\n",
      "1793/1793 [==============================] - 11s 6ms/step - loss: 0.0057 - accuracy: 0.9797 - precision_6: 0.9877 - recall_6: 0.8439 - val_loss: 0.0055 - val_accuracy: 0.9807 - val_precision_6: 0.9879 - val_recall_6: 0.8509\n"
     ]
    }
   ],
   "source": [
    "hist = model.fit(x_train, y_train,\n",
    "                 epochs=100,\n",
    "                 validation_split=0.15,\n",
    "                 batch_size=128,\n",
    "                 callbacks=[early_stopping_callback, reduce_lr_calllback])"
   ]
  },
  {
   "cell_type": "code",
   "execution_count": 58,
   "id": "informative-romania",
   "metadata": {},
   "outputs": [
    {
     "name": "stdout",
     "output_type": "stream",
     "text": [
      "5624/5624 [==============================] - 25s 4ms/step - loss: 0.0058 - accuracy: 0.9794 - precision_6: 0.9885 - recall_6: 0.8392\n"
     ]
    },
    {
     "data": {
      "text/plain": [
       "[0.005796907935291529,\n",
       " 0.9793630242347717,\n",
       " 0.9884752631187439,\n",
       " 0.8391823768615723]"
      ]
     },
     "execution_count": 58,
     "metadata": {},
     "output_type": "execute_result"
    }
   ],
   "source": [
    "model.evaluate(x_test, y_test)"
   ]
  },
  {
   "cell_type": "code",
   "execution_count": 59,
   "id": "binding-wisconsin",
   "metadata": {},
   "outputs": [],
   "source": [
    "encoder.trainable = True"
   ]
  },
  {
   "cell_type": "code",
   "execution_count": 60,
   "id": "powered-mainstream",
   "metadata": {
    "scrolled": true
   },
   "outputs": [
    {
     "name": "stdout",
     "output_type": "stream",
     "text": [
      "Epoch 1/100\n",
      "1793/1793 [==============================] - 11s 6ms/step - loss: 0.0057 - accuracy: 0.9796 - precision_6: 0.9876 - recall_6: 0.8435 - val_loss: 0.0055 - val_accuracy: 0.9805 - val_precision_6: 0.9879 - val_recall_6: 0.8493\n",
      "Epoch 2/100\n",
      "1793/1793 [==============================] - 11s 6ms/step - loss: 0.0057 - accuracy: 0.9796 - precision_6: 0.9877 - recall_6: 0.8429 - val_loss: 0.0055 - val_accuracy: 0.9805 - val_precision_6: 0.9879 - val_recall_6: 0.8497\n",
      "Epoch 3/100\n",
      "1793/1793 [==============================] - 11s 6ms/step - loss: 0.0057 - accuracy: 0.9796 - precision_6: 0.9877 - recall_6: 0.8430 - val_loss: 0.0055 - val_accuracy: 0.9805 - val_precision_6: 0.9879 - val_recall_6: 0.8497\n",
      "Epoch 4/100\n",
      "1793/1793 [==============================] - 11s 6ms/step - loss: 0.0057 - accuracy: 0.9796 - precision_6: 0.9877 - recall_6: 0.8430 - val_loss: 0.0055 - val_accuracy: 0.9805 - val_precision_6: 0.9879 - val_recall_6: 0.8491\n",
      "Epoch 5/100\n",
      "1793/1793 [==============================] - 11s 6ms/step - loss: 0.0057 - accuracy: 0.9796 - precision_6: 0.9877 - recall_6: 0.8431 - val_loss: 0.0055 - val_accuracy: 0.9804 - val_precision_6: 0.9879 - val_recall_6: 0.8489\n",
      "Epoch 6/100\n",
      "1793/1793 [==============================] - 11s 6ms/step - loss: 0.0057 - accuracy: 0.9796 - precision_6: 0.9878 - recall_6: 0.8430 - val_loss: 0.0055 - val_accuracy: 0.9805 - val_precision_6: 0.9879 - val_recall_6: 0.8495\n",
      "Epoch 7/100\n",
      "1793/1793 [==============================] - 11s 6ms/step - loss: 0.0057 - accuracy: 0.9796 - precision_6: 0.9877 - recall_6: 0.8431 - val_loss: 0.0055 - val_accuracy: 0.9805 - val_precision_6: 0.9879 - val_recall_6: 0.8493\n",
      "Epoch 8/100\n",
      "1793/1793 [==============================] - 11s 6ms/step - loss: 0.0057 - accuracy: 0.9796 - precision_6: 0.9877 - recall_6: 0.8430 - val_loss: 0.0055 - val_accuracy: 0.9805 - val_precision_6: 0.9879 - val_recall_6: 0.8493\n",
      "Epoch 9/100\n",
      "1793/1793 [==============================] - 11s 6ms/step - loss: 0.0057 - accuracy: 0.9796 - precision_6: 0.9877 - recall_6: 0.8430 - val_loss: 0.0055 - val_accuracy: 0.9805 - val_precision_6: 0.9879 - val_recall_6: 0.8495\n",
      "Epoch 10/100\n",
      "1793/1793 [==============================] - 11s 6ms/step - loss: 0.0057 - accuracy: 0.9796 - precision_6: 0.9877 - recall_6: 0.8430 - val_loss: 0.0055 - val_accuracy: 0.9805 - val_precision_6: 0.9879 - val_recall_6: 0.8493\n",
      "Epoch 11/100\n",
      "1793/1793 [==============================] - 11s 6ms/step - loss: 0.0057 - accuracy: 0.9796 - precision_6: 0.9877 - recall_6: 0.8430 - val_loss: 0.0055 - val_accuracy: 0.9805 - val_precision_6: 0.9879 - val_recall_6: 0.8493\n",
      "Epoch 12/100\n",
      "1793/1793 [==============================] - 11s 6ms/step - loss: 0.0057 - accuracy: 0.9796 - precision_6: 0.9877 - recall_6: 0.8430 - val_loss: 0.0055 - val_accuracy: 0.9805 - val_precision_6: 0.9879 - val_recall_6: 0.8493\n"
     ]
    }
   ],
   "source": [
    "hist2 = model.fit(x_train, y_train,\n",
    "                 epochs=100,\n",
    "                 validation_split=0.15,\n",
    "                 batch_size=128,\n",
    "                 callbacks=[early_stopping_callback, reduce_lr_calllback])"
   ]
  },
  {
   "cell_type": "code",
   "execution_count": 61,
   "id": "wound-proxy",
   "metadata": {},
   "outputs": [
    {
     "name": "stdout",
     "output_type": "stream",
     "text": [
      "5624/5624 [==============================] - 24s 4ms/step - loss: 0.0058 - accuracy: 0.9792 - precision_6: 0.9885 - recall_6: 0.8381\n"
     ]
    },
    {
     "data": {
      "text/plain": [
       "[0.005796505603939295,\n",
       " 0.9792407751083374,\n",
       " 0.9885144829750061,\n",
       " 0.8381258845329285]"
      ]
     },
     "execution_count": 61,
     "metadata": {},
     "output_type": "execute_result"
    }
   ],
   "source": [
    "model.evaluate(x_test, y_test)"
   ]
  },
  {
   "cell_type": "code",
   "execution_count": 62,
   "id": "cognitive-xerox",
   "metadata": {},
   "outputs": [],
   "source": [
    "model.save(\"Classifier2_100422.h5\")"
   ]
  }
 ],
 "metadata": {
  "kernelspec": {
   "display_name": "Python 3",
   "language": "python",
   "name": "python3"
  },
  "language_info": {
   "codemirror_mode": {
    "name": "ipython",
    "version": 3
   },
   "file_extension": ".py",
   "mimetype": "text/x-python",
   "name": "python",
   "nbconvert_exporter": "python",
   "pygments_lexer": "ipython3",
   "version": "3.8.10"
  }
 },
 "nbformat": 4,
 "nbformat_minor": 5
}

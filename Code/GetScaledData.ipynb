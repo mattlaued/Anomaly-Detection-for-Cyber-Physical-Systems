{
 "cells": [
  {
   "cell_type": "code",
   "execution_count": null,
   "id": "amateur-cooper",
   "metadata": {},
   "outputs": [],
   "source": [
    "import pandas as pd\n",
    "import numpy as np\n",
    "from sklearn.preprocessing import StandardScaler\n",
    "import pickle"
   ]
  },
  {
   "cell_type": "code",
   "execution_count": null,
   "id": "headed-modeling",
   "metadata": {},
   "outputs": [],
   "source": [
    "# file_path is file path of SWaT_Dataset_Normal_v0.csv data\n",
    "file_path = \"\"\n",
    "\n",
    "# please edit this for later\n",
    "scaler_path = \"\"\n",
    "\n",
    "df = pd.read_csv(file_path, skiprows=[0])\n",
    "df_data = df.drop(columns=[df.columns[0], df.columns[-1]]).dropna()\n",
    "\n",
    "scaler = StandardScaler()\n",
    "\n",
    "# sensors = ['FIT101', 'LIT101', 'AIT201', 'AIT202', 'AIT203', 'FIT201', 'DPIT301', 'FIT301', 'LIT301', 'AIT401', 'AIT402', 'FIT401', 'LIT401', 'UV401', 'AIT501', 'AIT502', 'AIT503', 'AIT504', 'FIT501', 'FIT502', 'FIT503', 'FIT504', 'PIT501', 'PIT502', 'PIT503', 'FIT601']\n",
    "sensor_indices = [0,\n",
    " 1,\n",
    " 5,\n",
    " 6,\n",
    " 7,\n",
    " 8,\n",
    " 16,\n",
    " 17,\n",
    " 18,\n",
    " 25,\n",
    " 26,\n",
    " 27,\n",
    " 28,\n",
    " 33,\n",
    " 34,\n",
    " 35,\n",
    " 36,\n",
    " 37,\n",
    " 38,\n",
    " 39,\n",
    " 40,\n",
    " 41,\n",
    " 44,\n",
    " 45,\n",
    " 46,\n",
    " 47]\n",
    "\n",
    "x = df_data[:, sensor_indices]\n",
    "\n",
    "df_sensors = scaler.fit_transform(x)\n",
    "\n",
    "df_sensors.to_csv(f\"{data_path}/SWaT_Dataset_Normal_v0_Sensors_Scaled.csv\", index=False)"
   ]
  },
  {
   "cell_type": "code",
   "execution_count": null,
   "id": "excessive-bunch",
   "metadata": {},
   "outputs": [],
   "source": [
    "with open(scaler_path, 'wb') as f:\n",
    "    pickle.dump(scaler, f)"
   ]
  }
 ],
 "metadata": {
  "kernelspec": {
   "display_name": "Python 3",
   "language": "python",
   "name": "python3"
  },
  "language_info": {
   "codemirror_mode": {
    "name": "ipython",
    "version": 3
   },
   "file_extension": ".py",
   "mimetype": "text/x-python",
   "name": "python",
   "nbconvert_exporter": "python",
   "pygments_lexer": "ipython3",
   "version": "3.8.10"
  }
 },
 "nbformat": 4,
 "nbformat_minor": 5
}

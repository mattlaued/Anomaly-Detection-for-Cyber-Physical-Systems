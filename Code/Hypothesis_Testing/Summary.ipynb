{
 "cells": [
  {
   "cell_type": "markdown",
   "source": [
    "# Tietjen-Moore Test for Outliers\n",
    "The <i>Tietjen-Moore Test</i> is a test to determine if there are <b>exactly</b> $\\boldsymbol k$ outliers in data that is approximately normally distributed. <br>\n",
    "The Tietjen-Moore test for $k=1$ outliers is called the <i>Grubbs Test</i> <br>\n",
    "For $X = (x_1, ..., x_n)$ and $Z = (z_1, ..., z_n)$ such that $z_i = x_j$ such that $x_j$ is the $i^{th}$ furthest point in $X$ from the sample mean.\n",
    "\\begin{equation*}\n",
    "U_k = \\frac{\\sum_{i=1}^{n-k} (z_i - \\bar z_k)^2}{\\sum_{i=1}^n (x - \\bar x)^2}\n",
    "\\end{equation*}\n"
   ],
   "metadata": {
    "collapsed": false,
    "pycharm": {
     "name": "#%% md\n"
    }
   }
  },
  {
   "cell_type": "code",
   "execution_count": 4,
   "metadata": {
    "collapsed": true
   },
   "outputs": [],
   "source": [
    "from tqdm.notebook import tqdm\n",
    "from matplotlib import pyplot as plt\n",
    "import cupy as cp\n",
    "import numpy as np\n",
    "import sqlite3"
   ]
  },
  {
   "cell_type": "code",
   "execution_count": 5,
   "outputs": [],
   "source": [
    "def TienjenStatistic(x: np.ndarray, kRange):\n",
    "    mean = x.mean()\n",
    "    r = np.abs(x - mean)\n",
    "    z = x[r.argsort()]\n",
    "    if cp != np:\n",
    "        z = cp.array(z)\n",
    "    total = None\n",
    "    denom = ((z - z.mean()) ** 2).sum()\n",
    "    if denom != 0:\n",
    "        E = []\n",
    "        progressBar = tqdm(kRange)\n",
    "        for k in progressBar:\n",
    "            if total is None:\n",
    "                total = z[:-(k + 1)].sum()\n",
    "            total += z[-(k + 1)]\n",
    "            mean = total / (len(z) - k)\n",
    "            E.append(cp.sum((z[:-k] - mean) ** 2) / denom)\n",
    "        del z, total, denom, k, mean\n",
    "\n",
    "        npE = cp.asnumpy(cp.array(E))\n",
    "    else:\n",
    "        npE = np.zeros(len(kRange))\n",
    "\n",
    "    return npE\n"
   ],
   "metadata": {
    "collapsed": false,
    "pycharm": {
     "name": "#%%\n"
    }
   }
  },
  {
   "cell_type": "code",
   "execution_count": 6,
   "outputs": [],
   "source": [
    "count = 1000000 # Approximately the number of rows in the combined normal and attack data"
   ],
   "metadata": {
    "collapsed": false,
    "pycharm": {
     "name": "#%%\n"
    }
   }
  },
  {
   "cell_type": "markdown",
   "source": [
    "Make a graph of random normally distributed Tietjen Statistics to compare to."
   ],
   "metadata": {
    "collapsed": false
   }
  },
  {
   "cell_type": "code",
   "execution_count": null,
   "outputs": [
    {
     "data": {
      "text/plain": "  0%|          | 0/99999 [00:00<?, ?it/s]",
      "application/vnd.jupyter.widget-view+json": {
       "version_major": 2,
       "version_minor": 0,
       "model_id": "dc7e7876e67e4ea0ad7f0aefb71f1e8e"
      }
     },
     "metadata": {},
     "output_type": "display_data"
    }
   ],
   "source": [
    "normalRandom = np.random.normal(size=count)\n",
    "kRange = list(range(1, 100000))\n",
    "e_norm = TienjenStatistic(normalRandom, kRange)"
   ],
   "metadata": {
    "collapsed": false,
    "pycharm": {
     "name": "#%%\n",
     "is_executing": true
    }
   }
  },
  {
   "cell_type": "code",
   "execution_count": null,
   "outputs": [],
   "source": [
    "def plotData(data: list, names: list, alpha: float, kwargLists=None, plotTitle=None):\n",
    "    \"\"\"\n",
    "    :param data: List of data arrays to plot\n",
    "    :param names: List of names for each array\n",
    "    :param alpha: significance level to plot\n",
    "    :param kwargLists: dict with lists of any values that you want to set (optional)\n",
    "    :param plotTitle: The title of the plot (optional)\n",
    "    \"\"\"\n",
    "    plt.figure(figsize=(10, 10))\n",
    "\n",
    "    if kwargLists is None:\n",
    "        kwargLists = {'y': data, 'label': names}\n",
    "    else:\n",
    "        kwargLists['y'] = data\n",
    "        kwargLists['label'] = names\n",
    "\n",
    "    gen = [dict(zip(kwargLists, vals)) for vals in zip(*(kwargLists[key] for key in kwargLists))]  # magic\n",
    "    for values in gen:\n",
    "        kwargs = values\n",
    "        plt.scatter(kRange[:len(kwargs['y'])], **kwargs)\n",
    "\n",
    "    # Plot Critical Boundary\n",
    "    criticalCuttoff = np.percentile(e_norm, alpha * 100)\n",
    "    plt.scatter(kRange, np.ones_like(kRange) * criticalCuttoff, label=f'$\\\\alpha={alpha}$', color='green')\n",
    "\n",
    "    # Plot Vertical line at True number of attack data points\n",
    "    # True number of attack data points: 54854\n",
    "    plt.axvline(x=54854, color='red', label='True number of anomalies')\n",
    "\n",
    "    if plotTitle is not None:\n",
    "        plt.title(plotTitle)\n",
    "    plt.legend(loc='upper right')\n",
    "    plt.xlabel('$K$')\n",
    "    plt.ylabel('$U_k$')\n",
    "\n",
    "    # plt.show()"
   ],
   "metadata": {
    "collapsed": false,
    "pycharm": {
     "name": "#%%\n",
     "is_executing": true
    }
   }
  },
  {
   "cell_type": "markdown",
   "source": [
    "A Tietjen-Moore statistic below the critical line means to reject the null hypothesis."
   ],
   "metadata": {
    "collapsed": false,
    "pycharm": {
     "name": "#%% md\n"
    }
   }
  },
  {
   "cell_type": "code",
   "execution_count": null,
   "outputs": [],
   "source": [
    "plotData([e_norm], ['Standard Normal'], 0.05, plotTitle=f'Titejen-Moore From {count} Standard Normal Data Points')"
   ],
   "metadata": {
    "collapsed": false,
    "pycharm": {
     "name": "#%%\n",
     "is_executing": true
    }
   }
  },
  {
   "cell_type": "code",
   "execution_count": null,
   "outputs": [],
   "source": [
    "con = sqlite3.connect(\"Tietjen.db\")\n",
    "cursor = con.cursor()"
   ],
   "metadata": {
    "collapsed": false,
    "pycharm": {
     "name": "#%%\n",
     "is_executing": true
    }
   }
  },
  {
   "cell_type": "code",
   "execution_count": null,
   "outputs": [],
   "source": [
    "# Plot the graphs\n",
    "for col in 'AIT501, AIT503, FIT502'.split(', '):\n",
    "    try:\n",
    "        result = np.array(list(cursor.execute(f\"\"\"SELECT K, VALUE FROM Tietjen_Statistics WHERE COL='{col}' ORDER BY K ASC\"\"\")))\n",
    "    except:\n",
    "        continue\n",
    "    plotData([result[:, 1]], [col + \" Tietjen Statistic\"], 0.05)\n",
    "    plt.title(col)\n",
    "\n",
    "    plt.show()"
   ],
   "metadata": {
    "collapsed": false,
    "pycharm": {
     "name": "#%%\n",
     "is_executing": true
    }
   }
  }
 ],
 "metadata": {
  "kernelspec": {
   "display_name": "Python 3",
   "language": "python",
   "name": "python3"
  },
  "language_info": {
   "codemirror_mode": {
    "name": "ipython",
    "version": 2
   },
   "file_extension": ".py",
   "mimetype": "text/x-python",
   "name": "python",
   "nbconvert_exporter": "python",
   "pygments_lexer": "ipython2",
   "version": "2.7.6"
  }
 },
 "nbformat": 4,
 "nbformat_minor": 0
}
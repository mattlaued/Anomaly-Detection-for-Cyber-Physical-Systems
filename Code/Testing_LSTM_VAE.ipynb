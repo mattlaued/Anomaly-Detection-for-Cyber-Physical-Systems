{
 "cells": [
  {
   "cell_type": "code",
   "execution_count": 1,
   "id": "combined-delhi",
   "metadata": {},
   "outputs": [],
   "source": [
    "import tensorflow as tf\n",
    "import numpy as np\n",
    "import pandas as pd\n",
    "import matplotlib.pyplot as plt\n",
    "import pickle\n",
    "from vae_methods import Sampling, sequencify\n",
    "import tensorflow_addons as tfa\n",
    "from sklearn.model_selection import train_test_split"
   ]
  },
  {
   "cell_type": "code",
   "execution_count": 2,
   "id": "acute-feedback",
   "metadata": {},
   "outputs": [],
   "source": [
    "data_path = \"../SWaT_Data\"\n",
    "with open(f\"{data_path}/scalerX_0.pkl\", \"rb\") as f:\n",
    "    scaler = pickle.load(f)\n",
    "\n",
    "df = pd.read_csv(f\"{data_path}/SWaT_Dataset_Attack_v0.csv\")\n",
    "\n",
    "# Relabel\n",
    "df.replace([\"A ttack\", \"Attack\", \"Normal\"], [1, 1, 0], inplace=True)\n",
    "\n",
    "# df"
   ]
  },
  {
   "cell_type": "code",
   "execution_count": 3,
   "id": "prescription-intent",
   "metadata": {},
   "outputs": [
    {
     "data": {
      "text/plain": [
       "Index([' Timestamp', 'FIT101', 'LIT101', ' MV101', 'P101', 'P102', ' AIT201',\n",
       "       'AIT202', 'AIT203', 'FIT201', ' MV201', ' P201', ' P202', 'P203',\n",
       "       ' P204', 'P205', 'P206', 'DPIT301', 'FIT301', 'LIT301', 'MV301',\n",
       "       'MV302', ' MV303', 'MV304', 'P301', 'P302', 'AIT401', 'AIT402',\n",
       "       'FIT401', 'LIT401', 'P401', 'P402', 'P403', 'P404', 'UV401', 'AIT501',\n",
       "       'AIT502', 'AIT503', 'AIT504', 'FIT501', 'FIT502', 'FIT503', 'FIT504',\n",
       "       'P501', 'P502', 'PIT501', 'PIT502', 'PIT503', 'FIT601', 'P601', 'P602',\n",
       "       'P603', 'Normal/Attack', 'Unnamed: 53', 'Unnamed: 54'],\n",
       "      dtype='object')"
      ]
     },
     "execution_count": 3,
     "metadata": {},
     "output_type": "execute_result"
    }
   ],
   "source": [
    "df.columns"
   ]
  },
  {
   "cell_type": "code",
   "execution_count": 3,
   "id": "rough-softball",
   "metadata": {},
   "outputs": [],
   "source": [
    "df_data = df.drop(columns=[df.columns[0], df.columns[-1], df.columns[-2], df.columns[-3]]).dropna()"
   ]
  },
  {
   "cell_type": "code",
   "execution_count": 4,
   "id": "multiple-vienna",
   "metadata": {},
   "outputs": [],
   "source": [
    "df_attack = scaler.transform(df_data)\n",
    "labels = df['Normal/Attack']"
   ]
  },
  {
   "cell_type": "code",
   "execution_count": 6,
   "id": "given-developer",
   "metadata": {},
   "outputs": [],
   "source": [
    "window = 5\n",
    "x_seq = sequencify(df_attack, window)\n"
   ]
  },
  {
   "cell_type": "code",
   "execution_count": 10,
   "id": "studied-mitchell",
   "metadata": {},
   "outputs": [],
   "source": [
    "def sequencify_y(arr, window):\n",
    "    \n",
    "    shape = (arr.shape[0] - window + 1, window,)\n",
    "    \n",
    "    # strides for processor to know how many bytes to skip / stride over to read from memory\n",
    "    strides = (arr.strides[0],) + arr.strides\n",
    "    \n",
    "    return np.lib.stride_tricks.as_strided(arr, shape=shape, strides=strides)\n",
    "\n",
    "y_seq = sequencify_y(labels.to_numpy(), window)"
   ]
  },
  {
   "cell_type": "code",
   "execution_count": 19,
   "id": "awful-vietnam",
   "metadata": {},
   "outputs": [],
   "source": [
    "# labels are 0 or 1. can be changed to be the average over the axis rather than max\n",
    "y_labels = np.amax(y_seq, axis=1)"
   ]
  },
  {
   "cell_type": "code",
   "execution_count": 13,
   "id": "structural-magnitude",
   "metadata": {},
   "outputs": [
    {
     "data": {
      "text/plain": [
       "1754      1\n",
       "1755      1\n",
       "1756      1\n",
       "1757      1\n",
       "1758      1\n",
       "         ..\n",
       "445186    1\n",
       "445187    1\n",
       "445188    1\n",
       "445189    1\n",
       "445190    1\n",
       "Name: Normal/Attack, Length: 54621, dtype: int64"
      ]
     },
     "execution_count": 13,
     "metadata": {},
     "output_type": "execute_result"
    }
   ],
   "source": [
    "labels[labels == 1]"
   ]
  },
  {
   "cell_type": "code",
   "execution_count": 14,
   "id": "distributed-recall",
   "metadata": {},
   "outputs": [
    {
     "data": {
      "text/plain": [
       "array([[0, 0, 0, 0, 1],\n",
       "       [0, 0, 0, 1, 1],\n",
       "       [0, 0, 1, 1, 1],\n",
       "       [0, 1, 1, 1, 1],\n",
       "       [1, 1, 1, 1, 1],\n",
       "       [1, 1, 1, 1, 1],\n",
       "       [1, 1, 1, 1, 1],\n",
       "       [1, 1, 1, 1, 1],\n",
       "       [1, 1, 1, 1, 1],\n",
       "       [1, 1, 1, 1, 1]])"
      ]
     },
     "execution_count": 14,
     "metadata": {},
     "output_type": "execute_result"
    }
   ],
   "source": [
    "y_seq[1750:1760]"
   ]
  },
  {
   "cell_type": "code",
   "execution_count": 17,
   "id": "simplified-telephone",
   "metadata": {},
   "outputs": [
    {
     "data": {
      "text/plain": [
       "(449915, 5)"
      ]
     },
     "execution_count": 17,
     "metadata": {},
     "output_type": "execute_result"
    }
   ],
   "source": [
    "y_seq.shape"
   ]
  },
  {
   "cell_type": "code",
   "execution_count": 20,
   "id": "proud-validation",
   "metadata": {},
   "outputs": [
    {
     "data": {
      "text/plain": [
       "(449915, 5, 51)"
      ]
     },
     "execution_count": 20,
     "metadata": {},
     "output_type": "execute_result"
    }
   ],
   "source": [
    "x_seq.shape"
   ]
  },
  {
   "cell_type": "code",
   "execution_count": 16,
   "id": "abandoned-reserve",
   "metadata": {},
   "outputs": [
    {
     "data": {
      "text/plain": [
       "(449915,)"
      ]
     },
     "execution_count": 16,
     "metadata": {},
     "output_type": "execute_result"
    }
   ],
   "source": [
    "np.amax(y_seq, axis=1).shape"
   ]
  },
  {
   "cell_type": "code",
   "execution_count": 18,
   "id": "insured-citizen",
   "metadata": {},
   "outputs": [
    {
     "data": {
      "text/plain": [
       "array([0, 0, 0, 0, 0, 1, 1, 1, 1, 1])"
      ]
     },
     "execution_count": 18,
     "metadata": {},
     "output_type": "execute_result"
    }
   ],
   "source": [
    "np.amax(y_seq, axis=1)[1745:1755]"
   ]
  },
  {
   "cell_type": "code",
   "execution_count": 21,
   "id": "little-gross",
   "metadata": {},
   "outputs": [],
   "source": [
    "x_train, x_test, y_train, y_test = train_test_split(x_seq, y_labels, test_size=0.4, random_state=0)"
   ]
  },
  {
   "cell_type": "code",
   "execution_count": 22,
   "id": "alien-marshall",
   "metadata": {},
   "outputs": [
    {
     "data": {
      "text/plain": [
       "(269949, 5, 51)"
      ]
     },
     "execution_count": 22,
     "metadata": {},
     "output_type": "execute_result"
    }
   ],
   "source": [
    "x_train.shape"
   ]
  },
  {
   "cell_type": "code",
   "execution_count": 23,
   "id": "bizarre-blackjack",
   "metadata": {},
   "outputs": [
    {
     "data": {
      "text/plain": [
       "(269949,)"
      ]
     },
     "execution_count": 23,
     "metadata": {},
     "output_type": "execute_result"
    }
   ],
   "source": [
    "y_train.shape"
   ]
  },
  {
   "cell_type": "code",
   "execution_count": 24,
   "id": "widespread-frame",
   "metadata": {},
   "outputs": [
    {
     "data": {
      "text/plain": [
       "(179966, 5, 51)"
      ]
     },
     "execution_count": 24,
     "metadata": {},
     "output_type": "execute_result"
    }
   ],
   "source": [
    "x_test.shape"
   ]
  },
  {
   "cell_type": "code",
   "execution_count": 25,
   "id": "numerous-authorization",
   "metadata": {},
   "outputs": [
    {
     "data": {
      "text/plain": [
       "(179966,)"
      ]
     },
     "execution_count": 25,
     "metadata": {},
     "output_type": "execute_result"
    }
   ],
   "source": [
    "y_test.shape"
   ]
  },
  {
   "cell_type": "code",
   "execution_count": 26,
   "id": "tracked-money",
   "metadata": {},
   "outputs": [],
   "source": [
    "del df_data\n",
    "del df\n",
    "del labels\n",
    "del df_attack"
   ]
  },
  {
   "cell_type": "code",
   "execution_count": 27,
   "id": "representative-subcommittee",
   "metadata": {},
   "outputs": [],
   "source": [
    "input_dim = x_train.shape[1:]"
   ]
  },
  {
   "cell_type": "code",
   "execution_count": 31,
   "id": "measured-hawaii",
   "metadata": {},
   "outputs": [
    {
     "data": {
      "text/plain": [
       "(5, 51)"
      ]
     },
     "execution_count": 31,
     "metadata": {},
     "output_type": "execute_result"
    }
   ],
   "source": [
    "input_dim"
   ]
  },
  {
   "cell_type": "code",
   "execution_count": 32,
   "id": "consolidated-mirror",
   "metadata": {},
   "outputs": [],
   "source": [
    "window, input_dim = input_dim"
   ]
  },
  {
   "cell_type": "code",
   "execution_count": 28,
   "id": "guided-significance",
   "metadata": {
    "scrolled": true
   },
   "outputs": [
    {
     "name": "stdout",
     "output_type": "stream",
     "text": [
      "WARNING:tensorflow:No training configuration found in the save file, so the model was *not* compiled. Compile it manually.\n"
     ]
    }
   ],
   "source": [
    "encoder = tf.keras.models.load_model('LSTM_VAE_Encoder_100422.h5', custom_objects={\"Sampling\": Sampling})"
   ]
  },
  {
   "cell_type": "code",
   "execution_count": 29,
   "id": "comfortable-familiar",
   "metadata": {},
   "outputs": [],
   "source": [
    "encoder_checkpoint_path = \"LSTM_VAE_Encoder_100422_weights.ckpt\"\n",
    "encoder.save_weights(encoder_checkpoint_path)"
   ]
  },
  {
   "cell_type": "code",
   "execution_count": null,
   "id": "balanced-console",
   "metadata": {},
   "outputs": [],
   "source": []
  },
  {
   "cell_type": "code",
   "execution_count": 30,
   "id": "danish-bleeding",
   "metadata": {},
   "outputs": [],
   "source": [
    "early_stopping_callback = tf.keras.callbacks.EarlyStopping(\n",
    "    monitor=\"val_loss\",\n",
    "    patience=11,\n",
    "    restore_best_weights=True,\n",
    ")\n",
    "\n",
    "reduce_lr_calllback = tf.keras.callbacks.ReduceLROnPlateau(\n",
    "    monitor='val_loss',\n",
    "    factor=0.15,\n",
    "    patience=5,\n",
    "    verbose=0,\n",
    "    mode='auto',\n",
    "    min_delta=0.0001,\n",
    "    cooldown=0,\n",
    "    min_lr=0\n",
    ")"
   ]
  },
  {
   "cell_type": "code",
   "execution_count": 35,
   "id": "whole-nutrition",
   "metadata": {},
   "outputs": [],
   "source": [
    "def create_classifier(encoder, input_dim):\n",
    "    \n",
    "    inputs = tf.keras.Input(shape=(input_dim))\n",
    "    z_mean, z_logvar, z = encoder(inputs, training=False)\n",
    "    latent = tf.keras.layers.Concatenate()([z_mean, z_logvar])\n",
    "    dense1 = tf.keras.layers.Dense(30, activation='tanh')(latent)\n",
    "    dense2 = tf.keras.layers.Dense(15, activation='relu')(dense1)\n",
    "    outputs = tf.keras.layers.Dense(1, activation='sigmoid')(dense2)\n",
    "    \n",
    "    model = tf.keras.Model(inputs, outputs, name='Classifier')\n",
    "    \n",
    "    return model"
   ]
  },
  {
   "cell_type": "code",
   "execution_count": 38,
   "id": "distinguished-demand",
   "metadata": {},
   "outputs": [
    {
     "name": "stdout",
     "output_type": "stream",
     "text": [
      "INFO:tensorflow:Using MirroredStrategy with devices ('/job:localhost/replica:0/task:0/device:GPU:0', '/job:localhost/replica:0/task:0/device:GPU:1')\n"
     ]
    }
   ],
   "source": [
    "latent_dim = input_dim - 6\n",
    "\n",
    "strategy = tf.distribute.MirroredStrategy()\n",
    "with strategy.scope():\n",
    "    inputs_encoder_vae = tf.keras.Input(shape=(window, input_dim))\n",
    "        \n",
    "    lstm_encoder = tf.keras.layers.LSTM(input_dim, activation='tanh')(inputs_encoder_vae)\n",
    "\n",
    "    dense1_vae = tf.keras.layers.Dense(input_dim - 5, activation='relu')(lstm_encoder)\n",
    "\n",
    "    z_mean = tf.keras.layers.Dense(latent_dim, name=\"z_mean\")(dense1_vae)\n",
    "    z_log_var = tf.keras.layers.Dense(latent_dim, name=\"z_log_var\")(dense1_vae)\n",
    "    z = Sampling()([z_mean, z_log_var])\n",
    "\n",
    "    encoder = tf.keras.Model(inputs=inputs_encoder_vae,\n",
    "                            outputs=[z_mean, z_log_var, z],\n",
    "                            name='LSTM_VAE_encoder')\n",
    "    \n",
    "    encoder.load_weights(encoder_checkpoint_path)\n",
    "    \n",
    "    encoder.trainable = False\n",
    "        return model\n",
    "    \n",
    "    model = create_classifier(encoder, (window, input_dim))\n",
    "    \n",
    "#     inputs = tf.keras.Input(shape=(input_dim,))\n",
    "#     z_mean, z_logvar, z = encoder(inputs, training=False)\n",
    "#     latent = tf.keras.layers.Concatenate()([z_mean, z_logvar])\n",
    "#     dense1 = tf.keras.layers.Dense(30, activation='tanh')(latent)\n",
    "#     dense2 = tf.keras.layers.Dense(15, activation='relu')(dense1)\n",
    "#     outputs = tf.keras.layers.Dense(1, activation='sigmoid')(dense2)\n",
    "#     outputs = tf.keras.layers.Dense(1, activation='relu')(dense2)\n",
    "    \n",
    "#     model = tf.keras.Model(inputs, outputs, name='Classifier')\n",
    "    \n",
    "    model.compile(loss=tfa.losses.SigmoidFocalCrossEntropy(from_logits=False),\n",
    "                  optimizer=tf.keras.optimizers.Adam(learning_rate=0.001, clipnorm=1),\n",
    "                 metrics=['accuracy', tf.keras.metrics.Precision(), tf.keras.metrics.Recall()])\n",
    "#                   tf.keras.losses.BinaryCrossentropy()"
   ]
  },
  {
   "cell_type": "code",
   "execution_count": 39,
   "id": "narrow-assistant",
   "metadata": {
    "scrolled": true
   },
   "outputs": [
    {
     "name": "stdout",
     "output_type": "stream",
     "text": [
      "Epoch 1/100\n",
      "INFO:tensorflow:batch_all_reduce: 6 all-reduces with algorithm = nccl, num_packs = 1\n",
      "INFO:tensorflow:batch_all_reduce: 6 all-reduces with algorithm = nccl, num_packs = 1\n",
      "1793/1793 [==============================] - 23s 8ms/step - loss: 0.0160 - accuracy: 0.9524 - precision_2: 0.9894 - recall_2: 0.6158 - val_loss: 0.0140 - val_accuracy: 0.9597 - val_precision_2: 0.9861 - val_recall_2: 0.6779\n",
      "Epoch 2/100\n",
      "1793/1793 [==============================] - 12s 7ms/step - loss: 0.0134 - accuracy: 0.9595 - precision_2: 0.9922 - recall_2: 0.6724 - val_loss: 0.0135 - val_accuracy: 0.9609 - val_precision_2: 0.9955 - val_recall_2: 0.6808\n",
      "Epoch 3/100\n",
      "1793/1793 [==============================] - 12s 7ms/step - loss: 0.0126 - accuracy: 0.9611 - precision_2: 0.9920 - recall_2: 0.6859 - val_loss: 0.0121 - val_accuracy: 0.9626 - val_precision_2: 0.9843 - val_recall_2: 0.7032\n",
      "Epoch 4/100\n",
      "1793/1793 [==============================] - 12s 7ms/step - loss: 0.0119 - accuracy: 0.9622 - precision_2: 0.9916 - recall_2: 0.6956 - val_loss: 0.0118 - val_accuracy: 0.9619 - val_precision_2: 0.9936 - val_recall_2: 0.6907\n",
      "Epoch 5/100\n",
      "1793/1793 [==============================] - 12s 7ms/step - loss: 0.0114 - accuracy: 0.9638 - precision_2: 0.9905 - recall_2: 0.7092 - val_loss: 0.0109 - val_accuracy: 0.9645 - val_precision_2: 0.9921 - val_recall_2: 0.7129\n",
      "Epoch 6/100\n",
      "1793/1793 [==============================] - 12s 7ms/step - loss: 0.0110 - accuracy: 0.9650 - precision_2: 0.9899 - recall_2: 0.7200 - val_loss: 0.0111 - val_accuracy: 0.9675 - val_precision_2: 0.9800 - val_recall_2: 0.7475\n",
      "Epoch 7/100\n",
      "1793/1793 [==============================] - 12s 7ms/step - loss: 0.0106 - accuracy: 0.9661 - precision_2: 0.9894 - recall_2: 0.7292 - val_loss: 0.0101 - val_accuracy: 0.9674 - val_precision_2: 0.9886 - val_recall_2: 0.7400\n",
      "Epoch 8/100\n",
      "1793/1793 [==============================] - 12s 7ms/step - loss: 0.0103 - accuracy: 0.9669 - precision_2: 0.9882 - recall_2: 0.7373 - val_loss: 0.0103 - val_accuracy: 0.9668 - val_precision_2: 0.9880 - val_recall_2: 0.7355\n",
      "Epoch 9/100\n",
      "1793/1793 [==============================] - 12s 7ms/step - loss: 0.0100 - accuracy: 0.9672 - precision_2: 0.9876 - recall_2: 0.7396 - val_loss: 0.0095 - val_accuracy: 0.9675 - val_precision_2: 0.9883 - val_recall_2: 0.7408\n",
      "Epoch 10/100\n",
      "1793/1793 [==============================] - 12s 7ms/step - loss: 0.0098 - accuracy: 0.9678 - precision_2: 0.9868 - recall_2: 0.7456 - val_loss: 0.0100 - val_accuracy: 0.9714 - val_precision_2: 0.9731 - val_recall_2: 0.7864\n",
      "Epoch 11/100\n",
      "1793/1793 [==============================] - 12s 7ms/step - loss: 0.0095 - accuracy: 0.9684 - precision_2: 0.9877 - recall_2: 0.7496 - val_loss: 0.0089 - val_accuracy: 0.9690 - val_precision_2: 0.9875 - val_recall_2: 0.7538\n",
      "Epoch 12/100\n",
      "1793/1793 [==============================] - 12s 7ms/step - loss: 0.0093 - accuracy: 0.9689 - precision_2: 0.9863 - recall_2: 0.7550 - val_loss: 0.0088 - val_accuracy: 0.9695 - val_precision_2: 0.9878 - val_recall_2: 0.7579\n",
      "Epoch 13/100\n",
      "1793/1793 [==============================] - 12s 7ms/step - loss: 0.0091 - accuracy: 0.9691 - precision_2: 0.9859 - recall_2: 0.7567 - val_loss: 0.0089 - val_accuracy: 0.9705 - val_precision_2: 0.9811 - val_recall_2: 0.7715\n",
      "Epoch 14/100\n",
      "1793/1793 [==============================] - 12s 7ms/step - loss: 0.0089 - accuracy: 0.9695 - precision_2: 0.9858 - recall_2: 0.7609 - val_loss: 0.0086 - val_accuracy: 0.9708 - val_precision_2: 0.9854 - val_recall_2: 0.7705\n",
      "Epoch 15/100\n",
      "1793/1793 [==============================] - 12s 7ms/step - loss: 0.0088 - accuracy: 0.9697 - precision_2: 0.9858 - recall_2: 0.7624 - val_loss: 0.0084 - val_accuracy: 0.9708 - val_precision_2: 0.9832 - val_recall_2: 0.7727\n",
      "Epoch 16/100\n",
      "1793/1793 [==============================] - 12s 7ms/step - loss: 0.0086 - accuracy: 0.9700 - precision_2: 0.9849 - recall_2: 0.7657 - val_loss: 0.0083 - val_accuracy: 0.9705 - val_precision_2: 0.9846 - val_recall_2: 0.7689\n",
      "Epoch 17/100\n",
      "1793/1793 [==============================] - 12s 7ms/step - loss: 0.0084 - accuracy: 0.9704 - precision_2: 0.9850 - recall_2: 0.7687 - val_loss: 0.0079 - val_accuracy: 0.9714 - val_precision_2: 0.9823 - val_recall_2: 0.7780\n",
      "Epoch 18/100\n",
      "1793/1793 [==============================] - 12s 7ms/step - loss: 0.0084 - accuracy: 0.9706 - precision_2: 0.9851 - recall_2: 0.7700 - val_loss: 0.0080 - val_accuracy: 0.9715 - val_precision_2: 0.9830 - val_recall_2: 0.7784\n",
      "Epoch 19/100\n",
      "1793/1793 [==============================] - 12s 7ms/step - loss: 0.0083 - accuracy: 0.9706 - precision_2: 0.9836 - recall_2: 0.7714 - val_loss: 0.0083 - val_accuracy: 0.9709 - val_precision_2: 0.9885 - val_recall_2: 0.7691\n",
      "Epoch 20/100\n",
      "1793/1793 [==============================] - 12s 7ms/step - loss: 0.0082 - accuracy: 0.9709 - precision_2: 0.9846 - recall_2: 0.7733 - val_loss: 0.0083 - val_accuracy: 0.9696 - val_precision_2: 0.9912 - val_recall_2: 0.7567\n",
      "Epoch 21/100\n",
      "1793/1793 [==============================] - 12s 7ms/step - loss: 0.0080 - accuracy: 0.9712 - precision_2: 0.9840 - recall_2: 0.7763 - val_loss: 0.0090 - val_accuracy: 0.9738 - val_precision_2: 0.9601 - val_recall_2: 0.8181\n",
      "Epoch 22/100\n",
      "1793/1793 [==============================] - 12s 7ms/step - loss: 0.0079 - accuracy: 0.9715 - precision_2: 0.9843 - recall_2: 0.7783 - val_loss: 0.0093 - val_accuracy: 0.9756 - val_precision_2: 0.9494 - val_recall_2: 0.8437\n",
      "Epoch 23/100\n",
      "1793/1793 [==============================] - 12s 7ms/step - loss: 0.0073 - accuracy: 0.9719 - precision_2: 0.9862 - recall_2: 0.7804 - val_loss: 0.0073 - val_accuracy: 0.9736 - val_precision_2: 0.9793 - val_recall_2: 0.7998\n",
      "Epoch 24/100\n",
      "1793/1793 [==============================] - 12s 7ms/step - loss: 0.0073 - accuracy: 0.9721 - precision_2: 0.9876 - recall_2: 0.7809 - val_loss: 0.0072 - val_accuracy: 0.9731 - val_precision_2: 0.9841 - val_recall_2: 0.7915\n",
      "Epoch 25/100\n",
      "1793/1793 [==============================] - 12s 7ms/step - loss: 0.0072 - accuracy: 0.9720 - precision_2: 0.9873 - recall_2: 0.7799 - val_loss: 0.0072 - val_accuracy: 0.9730 - val_precision_2: 0.9843 - val_recall_2: 0.7900\n",
      "Epoch 26/100\n",
      "1793/1793 [==============================] - 12s 7ms/step - loss: 0.0072 - accuracy: 0.9720 - precision_2: 0.9871 - recall_2: 0.7804 - val_loss: 0.0072 - val_accuracy: 0.9722 - val_precision_2: 0.9844 - val_recall_2: 0.7835\n",
      "Epoch 27/100\n",
      "1793/1793 [==============================] - 12s 7ms/step - loss: 0.0072 - accuracy: 0.9721 - precision_2: 0.9866 - recall_2: 0.7815 - val_loss: 0.0072 - val_accuracy: 0.9728 - val_precision_2: 0.9877 - val_recall_2: 0.7854\n",
      "Epoch 28/100\n",
      "1793/1793 [==============================] - 12s 7ms/step - loss: 0.0072 - accuracy: 0.9721 - precision_2: 0.9868 - recall_2: 0.7811 - val_loss: 0.0072 - val_accuracy: 0.9723 - val_precision_2: 0.9869 - val_recall_2: 0.7819\n",
      "Epoch 29/100\n",
      "1793/1793 [==============================] - 12s 7ms/step - loss: 0.0072 - accuracy: 0.9722 - precision_2: 0.9866 - recall_2: 0.7823 - val_loss: 0.0072 - val_accuracy: 0.9733 - val_precision_2: 0.9848 - val_recall_2: 0.7921\n",
      "Epoch 30/100\n",
      "1793/1793 [==============================] - 12s 7ms/step - loss: 0.0071 - accuracy: 0.9725 - precision_2: 0.9873 - recall_2: 0.7846 - val_loss: 0.0071 - val_accuracy: 0.9730 - val_precision_2: 0.9855 - val_recall_2: 0.7890\n",
      "Epoch 31/100\n",
      "1793/1793 [==============================] - 12s 7ms/step - loss: 0.0071 - accuracy: 0.9723 - precision_2: 0.9874 - recall_2: 0.7825 - val_loss: 0.0071 - val_accuracy: 0.9727 - val_precision_2: 0.9867 - val_recall_2: 0.7858\n",
      "Epoch 32/100\n",
      "1793/1793 [==============================] - 12s 7ms/step - loss: 0.0071 - accuracy: 0.9723 - precision_2: 0.9874 - recall_2: 0.7825 - val_loss: 0.0071 - val_accuracy: 0.9726 - val_precision_2: 0.9852 - val_recall_2: 0.7862\n",
      "Epoch 33/100\n",
      "1793/1793 [==============================] - 12s 7ms/step - loss: 0.0071 - accuracy: 0.9723 - precision_2: 0.9878 - recall_2: 0.7826 - val_loss: 0.0071 - val_accuracy: 0.9728 - val_precision_2: 0.9852 - val_recall_2: 0.7874\n",
      "Epoch 34/100\n",
      "1793/1793 [==============================] - 12s 7ms/step - loss: 0.0071 - accuracy: 0.9723 - precision_2: 0.9879 - recall_2: 0.7817 - val_loss: 0.0071 - val_accuracy: 0.9727 - val_precision_2: 0.9872 - val_recall_2: 0.7849\n",
      "Epoch 35/100\n",
      "1793/1793 [==============================] - 12s 7ms/step - loss: 0.0070 - accuracy: 0.9723 - precision_2: 0.9878 - recall_2: 0.7823 - val_loss: 0.0070 - val_accuracy: 0.9730 - val_precision_2: 0.9860 - val_recall_2: 0.7888\n",
      "Epoch 36/100\n",
      "1793/1793 [==============================] - 12s 7ms/step - loss: 0.0070 - accuracy: 0.9725 - precision_2: 0.9881 - recall_2: 0.7835 - val_loss: 0.0070 - val_accuracy: 0.9729 - val_precision_2: 0.9853 - val_recall_2: 0.7888\n",
      "Epoch 37/100\n",
      "1793/1793 [==============================] - 12s 7ms/step - loss: 0.0070 - accuracy: 0.9724 - precision_2: 0.9875 - recall_2: 0.7833 - val_loss: 0.0070 - val_accuracy: 0.9728 - val_precision_2: 0.9857 - val_recall_2: 0.7874\n",
      "Epoch 38/100\n",
      "1793/1793 [==============================] - 12s 7ms/step - loss: 0.0070 - accuracy: 0.9724 - precision_2: 0.9875 - recall_2: 0.7833 - val_loss: 0.0070 - val_accuracy: 0.9728 - val_precision_2: 0.9860 - val_recall_2: 0.7868\n",
      "Epoch 39/100\n",
      "1793/1793 [==============================] - 12s 7ms/step - loss: 0.0070 - accuracy: 0.9724 - precision_2: 0.9876 - recall_2: 0.7830 - val_loss: 0.0070 - val_accuracy: 0.9729 - val_precision_2: 0.9857 - val_recall_2: 0.7878\n",
      "Epoch 40/100\n",
      "1793/1793 [==============================] - 12s 7ms/step - loss: 0.0070 - accuracy: 0.9724 - precision_2: 0.9878 - recall_2: 0.7834 - val_loss: 0.0070 - val_accuracy: 0.9728 - val_precision_2: 0.9857 - val_recall_2: 0.7870\n",
      "Epoch 41/100\n",
      "1793/1793 [==============================] - 12s 7ms/step - loss: 0.0070 - accuracy: 0.9724 - precision_2: 0.9878 - recall_2: 0.7828 - val_loss: 0.0070 - val_accuracy: 0.9728 - val_precision_2: 0.9852 - val_recall_2: 0.7878\n",
      "Epoch 42/100\n",
      "1793/1793 [==============================] - 12s 7ms/step - loss: 0.0070 - accuracy: 0.9724 - precision_2: 0.9876 - recall_2: 0.7832 - val_loss: 0.0070 - val_accuracy: 0.9728 - val_precision_2: 0.9850 - val_recall_2: 0.7878\n",
      "Epoch 43/100\n",
      "1793/1793 [==============================] - 12s 7ms/step - loss: 0.0070 - accuracy: 0.9724 - precision_2: 0.9875 - recall_2: 0.7834 - val_loss: 0.0070 - val_accuracy: 0.9728 - val_precision_2: 0.9855 - val_recall_2: 0.7878\n",
      "Epoch 44/100\n",
      "1793/1793 [==============================] - 12s 7ms/step - loss: 0.0070 - accuracy: 0.9724 - precision_2: 0.9877 - recall_2: 0.7832 - val_loss: 0.0070 - val_accuracy: 0.9729 - val_precision_2: 0.9855 - val_recall_2: 0.7884\n",
      "Epoch 45/100\n",
      "1793/1793 [==============================] - 12s 7ms/step - loss: 0.0070 - accuracy: 0.9724 - precision_2: 0.9875 - recall_2: 0.7833 - val_loss: 0.0070 - val_accuracy: 0.9729 - val_precision_2: 0.9855 - val_recall_2: 0.7884\n",
      "Epoch 46/100\n",
      "1793/1793 [==============================] - 12s 7ms/step - loss: 0.0070 - accuracy: 0.9724 - precision_2: 0.9876 - recall_2: 0.7833 - val_loss: 0.0070 - val_accuracy: 0.9729 - val_precision_2: 0.9855 - val_recall_2: 0.7884\n"
     ]
    }
   ],
   "source": [
    "hist = model.fit(x_train, y_train,\n",
    "                 epochs=100,\n",
    "                 validation_split=0.15,\n",
    "                 batch_size=128,\n",
    "                 callbacks=[early_stopping_callback, reduce_lr_calllback])"
   ]
  },
  {
   "cell_type": "code",
   "execution_count": 40,
   "id": "verified-mystery",
   "metadata": {},
   "outputs": [
    {
     "name": "stdout",
     "output_type": "stream",
     "text": [
      "5624/5624 [==============================] - 25s 4ms/step - loss: 0.0072 - accuracy: 0.9725 - precision_2: 0.9868 - recall_2: 0.7846\n"
     ]
    },
    {
     "data": {
      "text/plain": [
       "[0.007156592793762684,\n",
       " 0.9725003838539124,\n",
       " 0.9867922067642212,\n",
       " 0.7845500707626343]"
      ]
     },
     "execution_count": 40,
     "metadata": {},
     "output_type": "execute_result"
    }
   ],
   "source": [
    "model.evaluate(x_test, y_test)"
   ]
  },
  {
   "cell_type": "code",
   "execution_count": 41,
   "id": "swedish-correspondence",
   "metadata": {},
   "outputs": [],
   "source": [
    "model.save(\"Classifier2_LSTM_VAE_100422_Freeze.h5\")"
   ]
  },
  {
   "cell_type": "code",
   "execution_count": 42,
   "id": "necessary-louisville",
   "metadata": {},
   "outputs": [],
   "source": [
    "encoder.trainable = True"
   ]
  },
  {
   "cell_type": "code",
   "execution_count": 43,
   "id": "roman-miracle",
   "metadata": {
    "scrolled": true
   },
   "outputs": [
    {
     "name": "stdout",
     "output_type": "stream",
     "text": [
      "Epoch 1/100\n",
      "1793/1793 [==============================] - 12s 7ms/step - loss: 0.0070 - accuracy: 0.9725 - precision_2: 0.9880 - recall_2: 0.7840 - val_loss: 0.0070 - val_accuracy: 0.9730 - val_precision_2: 0.9860 - val_recall_2: 0.7888\n",
      "Epoch 2/100\n",
      "1793/1793 [==============================] - 12s 7ms/step - loss: 0.0070 - accuracy: 0.9725 - precision_2: 0.9880 - recall_2: 0.7840 - val_loss: 0.0070 - val_accuracy: 0.9730 - val_precision_2: 0.9860 - val_recall_2: 0.7888\n",
      "Epoch 3/100\n",
      "1793/1793 [==============================] - 12s 7ms/step - loss: 0.0070 - accuracy: 0.9725 - precision_2: 0.9880 - recall_2: 0.7841 - val_loss: 0.0070 - val_accuracy: 0.9730 - val_precision_2: 0.9860 - val_recall_2: 0.7888\n",
      "Epoch 4/100\n",
      "1793/1793 [==============================] - 12s 7ms/step - loss: 0.0070 - accuracy: 0.9725 - precision_2: 0.9879 - recall_2: 0.7842 - val_loss: 0.0070 - val_accuracy: 0.9730 - val_precision_2: 0.9860 - val_recall_2: 0.7888\n",
      "Epoch 5/100\n",
      "1793/1793 [==============================] - 12s 7ms/step - loss: 0.0070 - accuracy: 0.9725 - precision_2: 0.9879 - recall_2: 0.7841 - val_loss: 0.0070 - val_accuracy: 0.9730 - val_precision_2: 0.9860 - val_recall_2: 0.7888\n",
      "Epoch 6/100\n",
      "1793/1793 [==============================] - 12s 7ms/step - loss: 0.0070 - accuracy: 0.9725 - precision_2: 0.9879 - recall_2: 0.7841 - val_loss: 0.0070 - val_accuracy: 0.9730 - val_precision_2: 0.9860 - val_recall_2: 0.7888\n",
      "Epoch 7/100\n",
      "1793/1793 [==============================] - 12s 7ms/step - loss: 0.0070 - accuracy: 0.9725 - precision_2: 0.9879 - recall_2: 0.7842 - val_loss: 0.0070 - val_accuracy: 0.9730 - val_precision_2: 0.9860 - val_recall_2: 0.7888\n",
      "Epoch 8/100\n",
      "1793/1793 [==============================] - 12s 7ms/step - loss: 0.0070 - accuracy: 0.9725 - precision_2: 0.9879 - recall_2: 0.7842 - val_loss: 0.0070 - val_accuracy: 0.9730 - val_precision_2: 0.9860 - val_recall_2: 0.7888\n",
      "Epoch 9/100\n",
      "1793/1793 [==============================] - 12s 7ms/step - loss: 0.0070 - accuracy: 0.9725 - precision_2: 0.9879 - recall_2: 0.7842 - val_loss: 0.0070 - val_accuracy: 0.9730 - val_precision_2: 0.9860 - val_recall_2: 0.7888\n",
      "Epoch 10/100\n",
      "1793/1793 [==============================] - 12s 7ms/step - loss: 0.0070 - accuracy: 0.9725 - precision_2: 0.9879 - recall_2: 0.7842 - val_loss: 0.0070 - val_accuracy: 0.9730 - val_precision_2: 0.9860 - val_recall_2: 0.7888\n",
      "Epoch 11/100\n",
      "1793/1793 [==============================] - 12s 7ms/step - loss: 0.0070 - accuracy: 0.9725 - precision_2: 0.9879 - recall_2: 0.7842 - val_loss: 0.0070 - val_accuracy: 0.9730 - val_precision_2: 0.9860 - val_recall_2: 0.7888\n",
      "Epoch 12/100\n",
      "1793/1793 [==============================] - 12s 7ms/step - loss: 0.0070 - accuracy: 0.9725 - precision_2: 0.9879 - recall_2: 0.7842 - val_loss: 0.0070 - val_accuracy: 0.9730 - val_precision_2: 0.9860 - val_recall_2: 0.7888\n"
     ]
    }
   ],
   "source": [
    "hist2 = model.fit(x_train, y_train,\n",
    "                 epochs=100,\n",
    "                 validation_split=0.15,\n",
    "                 batch_size=128,\n",
    "                 callbacks=[early_stopping_callback, reduce_lr_calllback])"
   ]
  },
  {
   "cell_type": "code",
   "execution_count": 44,
   "id": "disciplinary-jenny",
   "metadata": {},
   "outputs": [
    {
     "name": "stdout",
     "output_type": "stream",
     "text": [
      "5624/5624 [==============================] - 25s 4ms/step - loss: 0.0072 - accuracy: 0.9725 - precision_2: 0.9868 - recall_2: 0.7846\n"
     ]
    },
    {
     "data": {
      "text/plain": [
       "[0.007156273815780878,\n",
       " 0.9725003838539124,\n",
       " 0.9867922067642212,\n",
       " 0.7845500707626343]"
      ]
     },
     "execution_count": 44,
     "metadata": {},
     "output_type": "execute_result"
    }
   ],
   "source": [
    "model.evaluate(x_test, y_test)"
   ]
  },
  {
   "cell_type": "code",
   "execution_count": 45,
   "id": "sufficient-accident",
   "metadata": {},
   "outputs": [],
   "source": [
    "model.save(\"Classifier2_LSTM_VAE_100422_FineTuned.h5\")"
   ]
  }
 ],
 "metadata": {
  "kernelspec": {
   "display_name": "Python 3",
   "language": "python",
   "name": "python3"
  },
  "language_info": {
   "codemirror_mode": {
    "name": "ipython",
    "version": 3
   },
   "file_extension": ".py",
   "mimetype": "text/x-python",
   "name": "python",
   "nbconvert_exporter": "python",
   "pygments_lexer": "ipython3",
   "version": "3.8.10"
  }
 },
 "nbformat": 4,
 "nbformat_minor": 5
}
